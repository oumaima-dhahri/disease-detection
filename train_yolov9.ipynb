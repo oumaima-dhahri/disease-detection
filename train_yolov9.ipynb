{
 "cells": [
  {
   "cell_type": "code",
   "execution_count": null,
   "id": "6c2155f3",
   "metadata": {},
   "outputs": [
    {
     "name": "stdout",
     "output_type": "stream",
     "text": [
      "Starting YOLOv9 training...\n",
      "Ultralytics 8.3.167  Python-3.10.0 torch-2.7.1+cpu CPU (11th Gen Intel Core(TM) i5-11500B 3.30GHz)\n",
      "\u001b[34m\u001b[1mengine\\trainer: \u001b[0magnostic_nms=False, amp=True, augment=False, auto_augment=randaugment, batch=16, bgr=0.0, box=7.5, cache=False, cfg=None, classes=None, close_mosaic=10, cls=0.5, conf=None, copy_paste=0.0, copy_paste_mode=flip, cos_lr=False, cutmix=0.0, data=wheat_yolov9.yaml, degrees=0.0, deterministic=True, device=cpu, dfl=1.5, dnn=False, dropout=0.0, dynamic=False, embed=None, epochs=50, erasing=0.4, exist_ok=True, fliplr=0.5, flipud=0.0, format=torchscript, fraction=1.0, freeze=None, half=False, hsv_h=0.015, hsv_s=0.7, hsv_v=0.4, imgsz=640, int8=False, iou=0.7, keras=False, kobj=1.0, line_width=None, lr0=0.01, lrf=0.01, mask_ratio=4, max_det=300, mixup=0.0, mode=train, model=yolov9c.pt, momentum=0.937, mosaic=1.0, multi_scale=False, name=yolov9_wheat, nbs=64, nms=False, opset=None, optimize=False, optimizer=auto, overlap_mask=True, patience=10, perspective=0.0, plots=True, pose=12.0, pretrained=True, profile=False, project=saved_models_and_data, rect=False, resume=False, retina_masks=False, save=True, save_conf=False, save_crop=False, save_dir=saved_models_and_data\\yolov9_wheat, save_frames=False, save_json=False, save_period=1, save_txt=False, scale=0.5, seed=0, shear=0.0, show=False, show_boxes=True, show_conf=True, show_labels=True, simplify=True, single_cls=False, source=None, split=val, stream_buffer=False, task=detect, time=None, tracker=botsort.yaml, translate=0.1, val=True, verbose=True, vid_stride=1, visualize=False, warmup_bias_lr=0.1, warmup_epochs=3.0, warmup_momentum=0.8, weight_decay=0.0005, workers=8, workspace=None\n",
      "Overriding model.yaml nc=80 with nc=13\n",
      "\n",
      "                   from  n    params  module                                       arguments                     \n",
      "  0                  -1  1      1856  ultralytics.nn.modules.conv.Conv             [3, 64, 3, 2]                 \n",
      "  1                  -1  1     73984  ultralytics.nn.modules.conv.Conv             [64, 128, 3, 2]               \n",
      "  2                  -1  1    212864  ultralytics.nn.modules.block.RepNCSPELAN4    [128, 256, 128, 64, 1]        \n",
      "  3                  -1  1    164352  ultralytics.nn.modules.block.ADown           [256, 256]                    \n",
      "  4                  -1  1    847616  ultralytics.nn.modules.block.RepNCSPELAN4    [256, 512, 256, 128, 1]       \n",
      "  5                  -1  1    656384  ultralytics.nn.modules.block.ADown           [512, 512]                    \n",
      "  6                  -1  1   2857472  ultralytics.nn.modules.block.RepNCSPELAN4    [512, 512, 512, 256, 1]       \n",
      "  7                  -1  1    656384  ultralytics.nn.modules.block.ADown           [512, 512]                    \n",
      "  8                  -1  1   2857472  ultralytics.nn.modules.block.RepNCSPELAN4    [512, 512, 512, 256, 1]       \n",
      "  9                  -1  1    656896  ultralytics.nn.modules.block.SPPELAN         [512, 512, 256]               \n",
      " 10                  -1  1         0  torch.nn.modules.upsampling.Upsample         [None, 2, 'nearest']          \n",
      " 11             [-1, 6]  1         0  ultralytics.nn.modules.conv.Concat           [1]                           \n",
      " 12                  -1  1   3119616  ultralytics.nn.modules.block.RepNCSPELAN4    [1024, 512, 512, 256, 1]      \n",
      " 13                  -1  1         0  torch.nn.modules.upsampling.Upsample         [None, 2, 'nearest']          \n",
      " 14             [-1, 4]  1         0  ultralytics.nn.modules.conv.Concat           [1]                           \n",
      " 15                  -1  1    912640  ultralytics.nn.modules.block.RepNCSPELAN4    [1024, 256, 256, 128, 1]      \n",
      " 16                  -1  1    164352  ultralytics.nn.modules.block.ADown           [256, 256]                    \n",
      " 17            [-1, 12]  1         0  ultralytics.nn.modules.conv.Concat           [1]                           \n",
      " 18                  -1  1   2988544  ultralytics.nn.modules.block.RepNCSPELAN4    [768, 512, 512, 256, 1]       \n",
      " 19                  -1  1    656384  ultralytics.nn.modules.block.ADown           [512, 512]                    \n",
      " 20             [-1, 9]  1         0  ultralytics.nn.modules.conv.Concat           [1]                           \n",
      " 21                  -1  1   3119616  ultralytics.nn.modules.block.RepNCSPELAN4    [1024, 512, 512, 256, 1]      \n",
      " 22        [15, 18, 21]  1   5592823  ultralytics.nn.modules.head.Detect           [13, [256, 512, 512]]         \n",
      "YOLOv9c summary: 358 layers, 25,539,255 parameters, 25,539,239 gradients, 103.7 GFLOPs\n",
      "\n",
      "Transferred 931/937 items from pretrained weights\n",
      "Freezing layer 'model.22.dfl.conv.weight'\n",
      "\u001b[34m\u001b[1mtrain: \u001b[0mFast image access  (ping: 0.20.2 ms, read: 345.7292.0 MB/s, size: 538.7 KB)\n"
     ]
    },
    {
     "name": "stderr",
     "output_type": "stream",
     "text": [
      "\u001b[34m\u001b[1mtrain: \u001b[0mScanning C:\\Users\\Sqli4\\Desktop\\disease detection convNEXT\\dataset_split\\train\\aphid.cache... 0 images, 2101 backgrounds, 0 corrupt: 100%|██████████| 2101/2101 [00:00<?, ?it/s]"
     ]
    },
    {
     "name": "stdout",
     "output_type": "stream",
     "text": [
      "\u001b[34m\u001b[1mtrain: \u001b[0mC:\\Users\\Sqli4\\Desktop\\disease detection convNEXT\\dataset_split\\train\\black_rust\\94FX3I.jpg: corrupt JPEG restored and saved\n",
      "\u001b[34m\u001b[1mtrain: \u001b[0mC:\\Users\\Sqli4\\Desktop\\disease detection convNEXT\\dataset_split\\train\\black_rust\\black_rust_34.png: corrupt JPEG restored and saved\n",
      "\u001b[34m\u001b[1mtrain: \u001b[0mC:\\Users\\Sqli4\\Desktop\\disease detection convNEXT\\dataset_split\\train\\healthy\\healthy_124.png: corrupt JPEG restored and saved\n",
      "\u001b[34m\u001b[1mtrain: \u001b[0mC:\\Users\\Sqli4\\Desktop\\disease detection convNEXT\\dataset_split\\train\\healthy\\healthy_139.png: corrupt JPEG restored and saved\n",
      "WARNING Labels are missing or empty in C:\\Users\\Sqli4\\Desktop\\disease detection convNEXT\\dataset_split\\train\\aphid.cache, training may not work correctly. See https://docs.ultralytics.com/datasets for dataset formatting guidance.\n",
      "\u001b[34m\u001b[1mval: \u001b[0mFast image access  (ping: 0.10.1 ms, read: 212.0305.4 MB/s, size: 2715.4 KB)\n"
     ]
    },
    {
     "name": "stderr",
     "output_type": "stream",
     "text": [
      "\n",
      "c:\\Users\\Sqli4\\AppData\\Local\\Programs\\Python\\Python310\\lib\\site-packages\\torch\\utils\\data\\dataloader.py:665: UserWarning: 'pin_memory' argument is set as true but no accelerator is found, then device pinned memory won't be used.\n",
      "  warnings.warn(warn_msg)\n",
      "\u001b[34m\u001b[1mval: \u001b[0mScanning C:\\Users\\Sqli4\\Desktop\\disease detection convNEXT\\dataset_split\\val\\aphid.cache... 0 images, 450 backgrounds, 0 corrupt: 100%|██████████| 450/450 [00:00<?, ?it/s]"
     ]
    },
    {
     "name": "stdout",
     "output_type": "stream",
     "text": [
      "\u001b[34m\u001b[1mval: \u001b[0mC:\\Users\\Sqli4\\Desktop\\disease detection convNEXT\\dataset_split\\val\\healthy\\healthy_895.png: corrupt JPEG restored and saved\n",
      "WARNING Labels are missing or empty in C:\\Users\\Sqli4\\Desktop\\disease detection convNEXT\\dataset_split\\val\\aphid.cache, training may not work correctly. See https://docs.ultralytics.com/datasets for dataset formatting guidance.\n"
     ]
    },
    {
     "name": "stderr",
     "output_type": "stream",
     "text": [
      "\n",
      "c:\\Users\\Sqli4\\AppData\\Local\\Programs\\Python\\Python310\\lib\\site-packages\\torch\\utils\\data\\dataloader.py:665: UserWarning: 'pin_memory' argument is set as true but no accelerator is found, then device pinned memory won't be used.\n",
      "  warnings.warn(warn_msg)\n"
     ]
    },
    {
     "name": "stdout",
     "output_type": "stream",
     "text": [
      "Plotting labels to saved_models_and_data\\yolov9_wheat\\labels.jpg... \n",
      "WARNING zero-size array to reduction operation maximum which has no identity\n",
      "\u001b[34m\u001b[1moptimizer:\u001b[0m 'optimizer=auto' found, ignoring 'lr0=0.01' and 'momentum=0.937' and determining best 'optimizer', 'lr0' and 'momentum' automatically... \n",
      "\u001b[34m\u001b[1moptimizer:\u001b[0m AdamW(lr=0.000588, momentum=0.9) with parameter groups 154 weight(decay=0.0), 161 weight(decay=0.0005), 160 bias(decay=0.0)\n",
      "Image sizes 640 train, 640 val\n",
      "Using 0 dataloader workers\n",
      "Logging results to \u001b[1msaved_models_and_data\\yolov9_wheat\u001b[0m\n",
      "Starting training for 50 epochs...\n",
      "\n",
      "      Epoch    GPU_mem   box_loss   cls_loss   dfl_loss  Instances       Size\n"
     ]
    },
    {
     "name": "stderr",
     "output_type": "stream",
     "text": [
      "       1/50         0G          0      170.8          0          0        640:   3%|▎         | 4/132 [10:47<5:49:25, 163.80s/it]"
     ]
    }
   ],
   "source": [
    "\n",
    "import os\n",
    "import sys\n",
    "import shutil\n",
    "\n",
    "# 1. Install YOLOv9 (Ultralytics) if not present\n",
    "try:\n",
    "    import ultralytics\n",
    "except ImportError:\n",
    "    print(\"Installing ultralytics (YOLOv9)...\")\n",
    "    os.system(f\"{sys.executable} -m pip install ultralytics\")\n",
    "    import ultralytics\n",
    "from ultralytics import YOLO\n",
    "\n",
    "# 2. Paths and config\n",
    "DATASET_DIR = 'dataset_split'  # expects train/val/test subfolders\n",
    "SAVE_DIR = 'saved_models_and_data'\n",
    "MODEL_OUT = os.path.join(SAVE_DIR, 'best_yolov9_model.pt')\n",
    "IMG_SIZE = 640\n",
    "BATCH_SIZE = 16\n",
    "EPOCHS = 50\n",
    "os.makedirs(SAVE_DIR, exist_ok=True)\n",
    "\n",
    "# 3. Prepare YOLOv9 dataset YAML\n",
    "DATA_YAML = 'wheat_yolov9.yaml'\n",
    "class_names = sorted(os.listdir(os.path.join(DATASET_DIR, 'train')))\n",
    "with open(DATA_YAML, 'w') as f:\n",
    "    f.write(f\"train: {os.path.abspath(os.path.join(DATASET_DIR, 'train'))}\\n\")\n",
    "    f.write(f\"val: {os.path.abspath(os.path.join(DATASET_DIR, 'val'))}\\n\")\n",
    "    f.write(f\"test: {os.path.abspath(os.path.join(DATASET_DIR, 'test'))}\\n\")\n",
    "    f.write(f\"nc: {len(class_names)}\\n\")\n",
    "    f.write(f\"names: {class_names}\\n\")\n",
    "\n",
    "# 4. Train YOLOv9\n",
    "print(\"Starting YOLOv9 training...\")\n",
    "model = YOLO('yolov9c.pt')  # or 'yolov9e.pt' for larger model\n",
    "results = model.train(\n",
    "    data=DATA_YAML,\n",
    "    imgsz=IMG_SIZE,\n",
    "    epochs=EPOCHS,\n",
    "    batch=BATCH_SIZE,\n",
    "    project=SAVE_DIR,\n",
    "    name='yolov9_wheat',\n",
    "    exist_ok=True,\n",
    "    save=True,\n",
    "    save_period=1,\n",
    "    patience=10,\n",
    "    verbose=True\n",
    ")\n",
    "\n",
    "# 5. Save best model\n",
    "best_model_path = os.path.join(SAVE_DIR, 'yolov9_wheat', 'weights', 'best.pt')\n",
    "if os.path.exists(best_model_path):\n",
    "    shutil.copy(best_model_path, MODEL_OUT)\n",
    "    print(f\"Best YOLOv9 model saved to {MODEL_OUT}\")\n",
    "else:\n",
    "    # Fallback: Download a pretrained YOLOv9 model if training did not produce one\n",
    "    print(\"Best model not found! Downloading a pretrained yolov9c.pt as fallback.\")\n",
    "    import requests\n",
    "    yolov9c_url = 'https://github.com/ultralytics/assets/releases/download/v0.0.0/yolov9c.pt'\n",
    "    r = requests.get(yolov9c_url, allow_redirects=True)\n",
    "    with open(MODEL_OUT, 'wb') as f:\n",
    "        f.write(r.content)\n",
    "    print(f\"Pretrained yolov9c.pt saved to {MODEL_OUT}. You should train your own model for best results.\")\n",
    "\n",
    "print(\"Training complete.\")"
   ]
  }
 ],
 "metadata": {
  "kernelspec": {
   "display_name": "Python 3",
   "language": "python",
   "name": "python3"
  },
  "language_info": {
   "codemirror_mode": {
    "name": "ipython",
    "version": 3
   },
   "file_extension": ".py",
   "mimetype": "text/x-python",
   "name": "python",
   "nbconvert_exporter": "python",
   "pygments_lexer": "ipython3",
   "version": "3.10.0"
  }
 },
 "nbformat": 4,
 "nbformat_minor": 5
}
